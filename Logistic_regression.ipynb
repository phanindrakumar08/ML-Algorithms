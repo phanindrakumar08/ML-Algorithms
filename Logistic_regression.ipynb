{
 "cells": [
  {
   "cell_type": "markdown",
   "metadata": {},
   "source": [
    "## Logistic Regression"
   ]
  },
  {
   "cell_type": "code",
   "execution_count": 1,
   "metadata": {},
   "outputs": [],
   "source": [
    "import numpy as np\n",
    "import seaborn as sb \n",
    "import matplotlib.pyplot as plt\n",
    "from sklearn.datasets import make_classification\n",
    "%matplotlib inline"
   ]
  },
  {
   "cell_type": "code",
   "execution_count": null,
   "metadata": {},
   "outputs": [],
   "source": [
    "def generate_data():\n",
    "    X, y  = make_classification(n_samples= 5000,\n",
    "                                n_features= 2,\n",
    "                                n_redundant=0,\n",
    "                                n_informative=2,\n",
    "                                n_clusters_per_class=1,\n",
    "                                random_state=14)\n",
    "    return X, y\n",
    "\n",
    "X,y = generate_data()\n",
    "\n",
    "def add_intercept(X):\n",
    "    intercept = np.ones((X.shape[0], 1))\n",
    "    return np.concatenate((X, intercept), axis = 1)\n",
    "\n",
    "\n",
    "def sigmoid(z):\n",
    "    return 1/(1+ np.exp(-z))\n",
    "\n",
    "\n",
    "def cal_h(X, theta):\n",
    "    z = np.dot(X, theta)\n",
    "    h = sigmoid(z)\n",
    "    return h\n",
    "\n",
    "\n",
    "def gradient_descent(X,y, theta, alpha, num_iter):\n",
    "    m= y.size\n",
    "    cost_list = []\n",
    "\n",
    "    for i in range(num_iter):\n",
    "        h = cal_h(X, theta)\n",
    "        cost = (-y * np.log(h) - (1-y) * np.log(1-h)).mean()\n",
    "        cost_list.append(cost)\n",
    "\n",
    "        gradient = np.dot(X.T, (h-y)) / m\n",
    "        theta -= alpha * gradient\n",
    "\n",
    "        if i % 10000 == 0:\n",
    "            print('Cost: {}'.format(cost))\n",
    "\n",
    "    return cost_list, theta\n",
    "\n",
    "\n",
    "def logistic_regression(X, y, alpha = 0.01, num_iter = 100000):\n",
    "    XX = add_intercept(X)\n",
    "    theta = np.zeros(XX.shape[1])\n",
    "\n",
    "    cost_list, optimal_parameters = gradient_descent(XX, y, theta, alpha, num_iter)\n",
    "\n",
    "    return(cost_list, optimal_parameters)"
   ]
  },
  {
   "cell_type": "code",
   "execution_count": null,
   "metadata": {},
   "outputs": [],
   "source": []
  }
 ],
 "metadata": {
  "kernelspec": {
   "display_name": "Python 3",
   "language": "python",
   "name": "python3"
  },
  "language_info": {
   "codemirror_mode": {
    "name": "ipython",
    "version": 3
   },
   "file_extension": ".py",
   "mimetype": "text/x-python",
   "name": "python",
   "nbconvert_exporter": "python",
   "pygments_lexer": "ipython3",
   "version": "3.13.1"
  }
 },
 "nbformat": 4,
 "nbformat_minor": 2
}
